{
 "cells": [
  {
   "cell_type": "markdown",
   "metadata": {},
   "source": [
    "# Plagiarism Detection Model\n",
    "\n",
    "Now that you've created training and test data, you are ready to define and train a model. Your goal in this notebook, will be to train a binary classification model that learns to label an answer file as either plagiarized or not, based on the features you provide the model.\n",
    "\n",
    "This task will be broken down into a few discrete steps:\n",
    "\n",
    "* Upload your data to S3.\n",
    "* Define a binary classification model and a training script.\n",
    "* Train your model and deploy it.\n",
    "* Evaluate your deployed classifier and answer some questions about your approach.\n",
    "\n",
    "To complete this notebook, you'll have to complete all given exercises and answer all the questions in this notebook.\n",
    "> All your tasks will be clearly labeled **EXERCISE** and questions as **QUESTION**.\n",
    "\n",
    "It will be up to you to explore different classification models and decide on a model that gives you the best performance for this dataset.\n",
    "\n",
    "---"
   ]
  },
  {
   "cell_type": "markdown",
   "metadata": {},
   "source": [
    "## Load Data to S3\n",
    "\n",
    "In the last notebook, you should have created two files: a `training.csv` and `test.csv` file with the features and class labels for the given corpus of plagiarized/non-plagiarized text data. \n",
    "\n",
    ">The below cells load in some AWS SageMaker libraries and creates a default bucket. After creating this bucket, you can upload your locally stored data to S3.\n",
    "\n",
    "Save your train and test `.csv` feature files, locally. To do this you can run the second notebook \"2_Plagiarism_Feature_Engineering\" in SageMaker or you can manually upload your files to this notebook using the upload icon in Jupyter Lab. Then you can upload local files to S3 by using `sagemaker_session.upload_data` and pointing directly to where the training data is saved."
   ]
  },
  {
   "cell_type": "code",
   "execution_count": 1,
   "metadata": {},
   "outputs": [],
   "source": [
    "import pandas as pd\n",
    "import boto3\n",
    "import sagemaker"
   ]
  },
  {
   "cell_type": "code",
   "execution_count": 2,
   "metadata": {},
   "outputs": [],
   "source": [
    "\"\"\"\n",
    "DON'T MODIFY ANYTHING IN THIS CELL THAT IS BELOW THIS LINE\n",
    "\"\"\"\n",
    "# session and role\n",
    "sagemaker_session = sagemaker.Session()\n",
    "role = sagemaker.get_execution_role()\n",
    "\n",
    "# create an S3 bucket\n",
    "bucket = sagemaker_session.default_bucket()"
   ]
  },
  {
   "cell_type": "markdown",
   "metadata": {},
   "source": [
    "## EXERCISE: Upload your training data to S3\n",
    "\n",
    "Specify the `data_dir` where you've saved your `train.csv` file. Decide on a descriptive `prefix` that defines where your data will be uploaded in the default S3 bucket. Finally, create a pointer to your training data by calling `sagemaker_session.upload_data` and passing in the required parameters. It may help to look at the [Session documentation](https://sagemaker.readthedocs.io/en/stable/session.html#sagemaker.session.Session.upload_data) or previous SageMaker code examples.\n",
    "\n",
    "You are expected to upload your entire directory. Later, the training script will only access the `train.csv` file."
   ]
  },
  {
   "cell_type": "code",
   "execution_count": 11,
   "metadata": {},
   "outputs": [],
   "source": [
    "import os\n",
    "\n",
    "# should be the name of directory you created to save your features data\n",
    "data_dir = 'plagiarism_data'\n",
    "\n",
    "# set prefix, a descriptive name for a directory  \n",
    "prefix = 'plagiarism_project'\n",
    "\n",
    "# upload all data to S3\n",
    "\n",
    "train_location = sagemaker_session.upload_data(\n",
    "    path=os.path.join(data_dir, 'train.csv'),\n",
    "    bucket=bucket,\n",
    "    key_prefix=prefix\n",
    ")\n",
    "test_location = sagemaker_session.upload_data(\n",
    "    path=os.path.join(data_dir, 'test.csv'),\n",
    "    bucket=bucket,\n",
    "    key_prefix=prefix\n",
    ")"
   ]
  },
  {
   "cell_type": "markdown",
   "metadata": {},
   "source": [
    "### Test cell\n",
    "\n",
    "Test that your data has been successfully uploaded. The below cell prints out the items in your S3 bucket and will throw an error if it is empty. You should see the contents of your `data_dir` and perhaps some checkpoints. If you see any other files listed, then you may have some old model files that you can delete via the S3 console (though, additional files shouldn't affect the performance of model developed in this notebook)."
   ]
  },
  {
   "cell_type": "code",
   "execution_count": 12,
   "metadata": {},
   "outputs": [
    {
     "name": "stdout",
     "output_type": "stream",
     "text": [
      "plagiarism_project/test.csv\n",
      "plagiarism_project/train.csv\n",
      "pytorch-inference-2020-03-16-14-08-29-039/model.tar.gz\n",
      "pytorch-training-2020-03-16-13-56-20-201/source/sourcedir.tar.gz\n",
      "sagemaker/moon-data/.ipynb_checkpoints/train-checkpoint.csv\n",
      "sagemaker/moon-data/pytorch-training-2020-03-16-13-56-20-201/debug-output/collections/000000000/worker_0_collections.json\n",
      "sagemaker/moon-data/pytorch-training-2020-03-16-13-56-20-201/debug-output/events/000000000000/000000000000_worker_0.tfevents\n",
      "sagemaker/moon-data/pytorch-training-2020-03-16-13-56-20-201/debug-output/events/000000000500/000000000500_worker_0.tfevents\n",
      "sagemaker/moon-data/pytorch-training-2020-03-16-13-56-20-201/debug-output/index/000000000/000000000000_worker_0.json\n",
      "sagemaker/moon-data/pytorch-training-2020-03-16-13-56-20-201/debug-output/index/000000000/000000000500_worker_0.json\n",
      "sagemaker/moon-data/pytorch-training-2020-03-16-13-56-20-201/debug-output/training_job_end.ts\n",
      "sagemaker/moon-data/pytorch-training-2020-03-16-13-56-20-201/output/model.tar.gz\n",
      "sagemaker/moon-data/train.csv\n",
      "Test passed!\n"
     ]
    }
   ],
   "source": [
    "\"\"\"\n",
    "DON'T MODIFY ANYTHING IN THIS CELL THAT IS BELOW THIS LINE\n",
    "\"\"\"\n",
    "# confirm that data is in S3 bucket\n",
    "empty_check = []\n",
    "for obj in boto3.resource('s3').Bucket(bucket).objects.all():\n",
    "    empty_check.append(obj.key)\n",
    "    print(obj.key)\n",
    "\n",
    "assert len(empty_check) !=0, 'S3 bucket is empty.'\n",
    "print('Test passed!')"
   ]
  },
  {
   "cell_type": "markdown",
   "metadata": {},
   "source": [
    "---\n",
    "\n",
    "# Modeling\n",
    "\n",
    "Now that you've uploaded your training data, it's time to define and train a model!\n",
    "\n",
    "The type of model you create is up to you. For a binary classification task, you can choose to go one of three routes:\n",
    "* Use a built-in classification algorithm, like LinearLearner.\n",
    "* Define a custom Scikit-learn classifier, a comparison of models can be found [here](https://scikit-learn.org/stable/auto_examples/classification/plot_classifier_comparison.html).\n",
    "* Define a custom PyTorch neural network classifier. \n",
    "\n",
    "It will be up to you to test out a variety of models and choose the best one. Your project will be graded on the accuracy of your final model. \n",
    " \n",
    "---\n",
    "\n",
    "## EXERCISE: Complete a training script \n",
    "\n",
    "To implement a custom classifier, you'll need to complete a `train.py` script. You've been given the folders `source_sklearn` and `source_pytorch` which hold starting code for a custom Scikit-learn model and a PyTorch model, respectively. Each directory has a `train.py` training script. To complete this project **you only need to complete one of these scripts**; the script that is responsible for training your final model.\n",
    "\n",
    "A typical training script:\n",
    "* Loads training data from a specified directory\n",
    "* Parses any training & model hyperparameters (ex. nodes in a neural network, training epochs, etc.)\n",
    "* Instantiates a model of your design, with any specified hyperparams\n",
    "* Trains that model \n",
    "* Finally, saves the model so that it can be hosted/deployed, later\n",
    "\n",
    "### Defining and training a model\n",
    "Much of the training script code is provided for you. Almost all of your work will be done in the `if __name__ == '__main__':` section. To complete a `train.py` file, you will:\n",
    "1. Import any extra libraries you need\n",
    "2. Define any additional model training hyperparameters using `parser.add_argument`\n",
    "2. Define a model in the `if __name__ == '__main__':` section\n",
    "3. Train the model in that same section\n",
    "\n",
    "Below, you can use `!pygmentize` to display an existing `train.py` file. Read through the code; all of your tasks are marked with `TODO` comments. \n",
    "\n",
    "**Note: If you choose to create a custom PyTorch model, you will be responsible for defining the model in the `model.py` file,** and a `predict.py` file is provided. If you choose to use Scikit-learn, you only need a `train.py` file; you may import a classifier from the `sklearn` library."
   ]
  },
  {
   "cell_type": "code",
   "execution_count": 5,
   "metadata": {},
   "outputs": [
    {
     "name": "stdout",
     "output_type": "stream",
     "text": [
      "\u001b[34mfrom\u001b[39;49;00m \u001b[04m\u001b[36m__future__\u001b[39;49;00m \u001b[34mimport\u001b[39;49;00m print_function\n",
      "\n",
      "\u001b[34mimport\u001b[39;49;00m \u001b[04m\u001b[36margparse\u001b[39;49;00m\n",
      "\u001b[34mimport\u001b[39;49;00m \u001b[04m\u001b[36mos\u001b[39;49;00m\n",
      "\u001b[34mimport\u001b[39;49;00m \u001b[04m\u001b[36mpandas\u001b[39;49;00m \u001b[34mas\u001b[39;49;00m \u001b[04m\u001b[36mpd\u001b[39;49;00m\n",
      "\n",
      "\u001b[34mfrom\u001b[39;49;00m \u001b[04m\u001b[36msklearn.externals\u001b[39;49;00m \u001b[34mimport\u001b[39;49;00m joblib\n",
      "\n",
      "\u001b[37m## TODO: Import any additional libraries you need to define a model\u001b[39;49;00m\n",
      "\n",
      "\n",
      "\u001b[37m# Provided model load function\u001b[39;49;00m\n",
      "\u001b[34mdef\u001b[39;49;00m \u001b[32mmodel_fn\u001b[39;49;00m(model_dir):\n",
      "    \u001b[33m\"\"\"Load model from the model_dir. This is the same model that is saved\u001b[39;49;00m\n",
      "\u001b[33m    in the main if statement.\u001b[39;49;00m\n",
      "\u001b[33m    \"\"\"\u001b[39;49;00m\n",
      "    \u001b[34mprint\u001b[39;49;00m(\u001b[33m\"\u001b[39;49;00m\u001b[33mLoading model.\u001b[39;49;00m\u001b[33m\"\u001b[39;49;00m)\n",
      "    \n",
      "    \u001b[37m# load using joblib\u001b[39;49;00m\n",
      "    model = joblib.load(os.path.join(model_dir, \u001b[33m\"\u001b[39;49;00m\u001b[33mmodel.joblib\u001b[39;49;00m\u001b[33m\"\u001b[39;49;00m))\n",
      "    \u001b[34mprint\u001b[39;49;00m(\u001b[33m\"\u001b[39;49;00m\u001b[33mDone loading model.\u001b[39;49;00m\u001b[33m\"\u001b[39;49;00m)\n",
      "    \n",
      "    \u001b[34mreturn\u001b[39;49;00m model\n",
      "\n",
      "\n",
      "\u001b[37m## TODO: Complete the main code\u001b[39;49;00m\n",
      "\u001b[34mif\u001b[39;49;00m \u001b[31m__name__\u001b[39;49;00m == \u001b[33m'\u001b[39;49;00m\u001b[33m__main__\u001b[39;49;00m\u001b[33m'\u001b[39;49;00m:\n",
      "    \n",
      "    \u001b[37m# All of the model parameters and training parameters are sent as arguments\u001b[39;49;00m\n",
      "    \u001b[37m# when this script is executed, during a training job\u001b[39;49;00m\n",
      "    \n",
      "    \u001b[37m# Here we set up an argument parser to easily access the parameters\u001b[39;49;00m\n",
      "    parser = argparse.ArgumentParser()\n",
      "\n",
      "    \u001b[37m# SageMaker parameters, like the directories for training data and saving models; set automatically\u001b[39;49;00m\n",
      "    \u001b[37m# Do not need to change\u001b[39;49;00m\n",
      "    parser.add_argument(\u001b[33m'\u001b[39;49;00m\u001b[33m--output-data-dir\u001b[39;49;00m\u001b[33m'\u001b[39;49;00m, \u001b[36mtype\u001b[39;49;00m=\u001b[36mstr\u001b[39;49;00m, default=os.environ[\u001b[33m'\u001b[39;49;00m\u001b[33mSM_OUTPUT_DATA_DIR\u001b[39;49;00m\u001b[33m'\u001b[39;49;00m])\n",
      "    parser.add_argument(\u001b[33m'\u001b[39;49;00m\u001b[33m--model-dir\u001b[39;49;00m\u001b[33m'\u001b[39;49;00m, \u001b[36mtype\u001b[39;49;00m=\u001b[36mstr\u001b[39;49;00m, default=os.environ[\u001b[33m'\u001b[39;49;00m\u001b[33mSM_MODEL_DIR\u001b[39;49;00m\u001b[33m'\u001b[39;49;00m])\n",
      "    parser.add_argument(\u001b[33m'\u001b[39;49;00m\u001b[33m--data-dir\u001b[39;49;00m\u001b[33m'\u001b[39;49;00m, \u001b[36mtype\u001b[39;49;00m=\u001b[36mstr\u001b[39;49;00m, default=os.environ[\u001b[33m'\u001b[39;49;00m\u001b[33mSM_CHANNEL_TRAIN\u001b[39;49;00m\u001b[33m'\u001b[39;49;00m])\n",
      "    \n",
      "    \u001b[37m## TODO: Add any additional arguments that you will need to pass into your model\u001b[39;49;00m\n",
      "    \n",
      "    \u001b[37m# args holds all passed-in arguments\u001b[39;49;00m\n",
      "    args = parser.parse_args()\n",
      "\n",
      "    \u001b[37m# Read in csv training file\u001b[39;49;00m\n",
      "    training_dir = args.data_dir\n",
      "    train_data = pd.read_csv(os.path.join(training_dir, \u001b[33m\"\u001b[39;49;00m\u001b[33mtrain.csv\u001b[39;49;00m\u001b[33m\"\u001b[39;49;00m), header=\u001b[36mNone\u001b[39;49;00m, names=\u001b[36mNone\u001b[39;49;00m)\n",
      "\n",
      "    \u001b[37m# Labels are in the first column\u001b[39;49;00m\n",
      "    train_y = train_data.iloc[:,\u001b[34m0\u001b[39;49;00m]\n",
      "    train_x = train_data.iloc[:,\u001b[34m1\u001b[39;49;00m:]\n",
      "    \n",
      "    \n",
      "    \u001b[37m## --- Your code here --- ##\u001b[39;49;00m\n",
      "    \n",
      "\n",
      "    \u001b[37m## TODO: Define a model \u001b[39;49;00m\n",
      "    model = \u001b[36mNone\u001b[39;49;00m\n",
      "    \n",
      "    \n",
      "    \u001b[37m## TODO: Train the model\u001b[39;49;00m\n",
      "    \n",
      "    \n",
      "    \n",
      "    \u001b[37m## --- End of your code  --- ##\u001b[39;49;00m\n",
      "    \n",
      "\n",
      "    \u001b[37m# Save the trained model\u001b[39;49;00m\n",
      "    joblib.dump(model, os.path.join(args.model_dir, \u001b[33m\"\u001b[39;49;00m\u001b[33mmodel.joblib\u001b[39;49;00m\u001b[33m\"\u001b[39;49;00m))\n"
     ]
    }
   ],
   "source": [
    "# directory can be changed to: source_sklearn or source_pytorch\n",
    "!pygmentize source_sklearn/train.py"
   ]
  },
  {
   "cell_type": "markdown",
   "metadata": {},
   "source": [
    "### Provided code\n",
    "\n",
    "If you read the code above, you can see that the starter code includes a few things:\n",
    "* Model loading (`model_fn`) and saving code\n",
    "* Getting SageMaker's default hyperparameters\n",
    "* Loading the training data by name, `train.csv` and extracting the features and labels, `train_x`, and `train_y`\n",
    "\n",
    "If you'd like to read more about model saving with [joblib for sklearn](https://scikit-learn.org/stable/modules/model_persistence.html) or with [torch.save](https://pytorch.org/tutorials/beginner/saving_loading_models.html), click on the provided links."
   ]
  },
  {
   "cell_type": "markdown",
   "metadata": {},
   "source": [
    "---\n",
    "# Create an Estimator\n",
    "\n",
    "When a custom model is constructed in SageMaker, an entry point must be specified. This is the Python file which will be executed when the model is trained; the `train.py` function you specified above. To run a custom training script in SageMaker, construct an estimator, and fill in the appropriate constructor arguments:\n",
    "\n",
    "* **entry_point**: The path to the Python script SageMaker runs for training and prediction.\n",
    "* **source_dir**: The path to the training script directory `source_sklearn` OR `source_pytorch`.\n",
    "* **entry_point**: The path to the Python script SageMaker runs for training and prediction.\n",
    "* **source_dir**: The path to the training script directory `train_sklearn` OR `train_pytorch`.\n",
    "* **entry_point**: The path to the Python script SageMaker runs for training.\n",
    "* **source_dir**: The path to the training script directory `train_sklearn` OR `train_pytorch`.\n",
    "* **role**: Role ARN, which was specified, above.\n",
    "* **train_instance_count**: The number of training instances (should be left at 1).\n",
    "* **train_instance_type**: The type of SageMaker instance for training. Note: Because Scikit-learn does not natively support GPU training, Sagemaker Scikit-learn does not currently support training on GPU instance types.\n",
    "* **sagemaker_session**: The session used to train on Sagemaker.\n",
    "* **hyperparameters** (optional): A dictionary `{'name':value, ..}` passed to the train function as hyperparameters.\n",
    "\n",
    "Note: For a PyTorch model, there is another optional argument **framework_version**, which you can set to the latest version of PyTorch, `1.0`.\n",
    "\n",
    "## EXERCISE: Define a Scikit-learn or PyTorch estimator\n",
    "\n",
    "To import your desired estimator, use one of the following lines:\n",
    "```\n",
    "from sagemaker.sklearn.estimator import SKLearn\n",
    "```\n",
    "```\n",
    "from sagemaker.pytorch import PyTorch\n",
    "```"
   ]
  },
  {
   "cell_type": "code",
   "execution_count": 16,
   "metadata": {},
   "outputs": [],
   "source": [
    "\n",
    "# your import and estimator code, here\n",
    "\n",
    "from sagemaker.amazon.amazon_estimator import get_image_uri\n",
    "\n",
    "container = get_image_uri(sagemaker_session.boto_region_name, 'xgboost', '0.90-1')\n",
    "\n",
    "xgb = sagemaker.estimator.Estimator(container, # The location of the container we wish to use\n",
    "                                    role,                                    # What is our current IAM Role\n",
    "                                    train_instance_count=1,                  # How many compute instances\n",
    "                                    train_instance_type='ml.m4.xlarge',      # What kind of compute instances\n",
    "                                    output_path=f's3://{bucket}/{prefix}/xgb-output',\n",
    "                                    sagemaker_session=sagemaker_session)\n",
    "\n",
    "xgb.set_hyperparameters(max_depth=10,\n",
    "                        eta=0.2,\n",
    "                        gamma=4,\n",
    "                        min_child_weight=6,\n",
    "                        subsample=0.8,\n",
    "                        silent=0,\n",
    "                        objective='binary:logistic',\n",
    "                        early_stopping_rounds=10,\n",
    "                        num_round=500)\n",
    "\n",
    "\n",
    "from sagemaker.pytorch import PyTorch\n",
    "\n",
    "py_torch = PyTorch(\n",
    "    entry_point='train.py',\n",
    "    source_dir='source_pytorch',\n",
    "    role=role,\n",
    "    sagemaker_session=sagemaker_session,\n",
    "    train_instance_count=1,\n",
    "    train_instance_type='ml.c4.xlarge',\n",
    "    output_path=f's3://{bucket}/{prefix}/pytorch-output',\n",
    "    hyperparameters={\n",
    "        \"input_features\": 6,\n",
    "        \"hidden_dim\": 30,\n",
    "        \"output_dim\": 1,\n",
    "        \"epochs\": 200\n",
    "    },\n",
    "    framework_version='1.4.0'\n",
    ")\n",
    "\n",
    "from sagemaker.sklearn.estimator import SKLearn\n",
    "\n",
    "sk_learn = SKLearn(\n",
    "    entry_point='train.py',\n",
    "    source_dir='source_sklearn',\n",
    "    role=role,\n",
    "    sagemaker_session = sagemaker_session,\n",
    "    train_instance_count=1,\n",
    "    train_instance_type='ml.c4.xlarge',\n",
    "    output_path=f's3://{bucket}/{prefix}/sklearn-output',\n",
    "    hyperparameters={\n",
    "        \"max_depth\": 10,\n",
    "    }\n",
    ")"
   ]
  },
  {
   "cell_type": "markdown",
   "metadata": {},
   "source": [
    "## EXERCISE: Train the estimator\n",
    "\n",
    "Train your estimator on the training data stored in S3. This should create a training job that you can monitor in your SageMaker console."
   ]
  },
  {
   "cell_type": "code",
   "execution_count": 24,
   "metadata": {
    "collapsed": true,
    "jupyter": {
     "outputs_hidden": true
    }
   },
   "outputs": [
    {
     "name": "stdout",
     "output_type": "stream",
     "text": [
      "2020-03-27 19:59:17 Starting - Starting the training job...\n",
      "2020-03-27 19:59:19 Starting - Launching requested ML instances.........\n",
      "2020-03-27 20:01:02 Starting - Preparing the instances for training......\n",
      "2020-03-27 20:02:00 Downloading - Downloading input data...\n",
      "2020-03-27 20:02:35 Training - Downloading the training image..\u001b[34mINFO:sagemaker-containers:Imported framework sagemaker_xgboost_container.training\u001b[0m\n",
      "\u001b[34mINFO:sagemaker-containers:Failed to parse hyperparameter objective value binary:logistic to Json.\u001b[0m\n",
      "\u001b[34mReturning the value itself\u001b[0m\n",
      "\u001b[34mINFO:sagemaker-containers:No GPUs detected (normal if no gpus installed)\u001b[0m\n",
      "\u001b[34mINFO:sagemaker_xgboost_container.training:Running XGBoost Sagemaker in algorithm mode\u001b[0m\n",
      "\u001b[34mINFO:root:Determined delimiter of CSV input is ','\u001b[0m\n",
      "\u001b[34mINFO:root:Determined delimiter of CSV input is ','\u001b[0m\n",
      "\u001b[34m[20:02:58] 70x6 matrix with 420 entries loaded from /opt/ml/input/data/train?format=csv&label_column=0&delimiter=,\u001b[0m\n",
      "\u001b[34mINFO:root:Single node training.\u001b[0m\n",
      "\u001b[34mINFO:root:Train matrix has 70 rows\u001b[0m\n",
      "\u001b[34m[0]#011train-error:0.057143\u001b[0m\n",
      "\u001b[34m[1]#011train-error:0.042857\u001b[0m\n",
      "\u001b[34m[2]#011train-error:0.042857\u001b[0m\n",
      "\u001b[34m[3]#011train-error:0.042857\u001b[0m\n",
      "\u001b[34m[4]#011train-error:0.042857\u001b[0m\n",
      "\u001b[34m[5]#011train-error:0.042857\u001b[0m\n",
      "\u001b[34m[6]#011train-error:0.042857\u001b[0m\n",
      "\u001b[34m[7]#011train-error:0.042857\u001b[0m\n",
      "\u001b[34m[8]#011train-error:0.042857\u001b[0m\n",
      "\u001b[34m[9]#011train-error:0.042857\u001b[0m\n",
      "\u001b[34m[10]#011train-error:0.042857\u001b[0m\n",
      "\u001b[34m[11]#011train-error:0.042857\u001b[0m\n",
      "\n",
      "2020-03-27 20:03:07 Uploading - Uploading generated training model\n",
      "2020-03-27 20:03:07 Completed - Training job completed\n",
      "Training seconds: 67\n",
      "Billable seconds: 67\n",
      "CPU times: user 461 ms, sys: 24 ms, total: 485 ms\n",
      "Wall time: 4min 12s\n"
     ]
    }
   ],
   "source": [
    "%%time\n",
    "\n",
    "# Train your estimator on S3 training data\n",
    "\n",
    "xgb.fit({\n",
    "    'train': sagemaker.s3_input(\n",
    "        s3_data=train_location,\n",
    "        content_type='csv'\n",
    "    )})"
   ]
  },
  {
   "cell_type": "code",
   "execution_count": 17,
   "metadata": {
    "collapsed": true,
    "jupyter": {
     "outputs_hidden": true
    }
   },
   "outputs": [
    {
     "name": "stdout",
     "output_type": "stream",
     "text": [
      "2020-03-27 19:38:14 Starting - Starting the training job...\n",
      "2020-03-27 19:38:16 Starting - Launching requested ML instances............\n",
      "2020-03-27 19:40:23 Starting - Preparing the instances for training...\n",
      "2020-03-27 19:41:15 Downloading - Downloading input data......\n",
      "2020-03-27 19:42:05 Training - Downloading the training image..\u001b[34mbash: cannot set terminal process group (-1): Inappropriate ioctl for device\u001b[0m\n",
      "\u001b[34mbash: no job control in this shell\u001b[0m\n",
      "\u001b[34m2020-03-27 19:42:26,845 sagemaker-containers INFO     Imported framework sagemaker_pytorch_container.training\u001b[0m\n",
      "\u001b[34m2020-03-27 19:42:26,848 sagemaker-containers INFO     No GPUs detected (normal if no gpus installed)\u001b[0m\n",
      "\u001b[34m2020-03-27 19:42:26,860 sagemaker_pytorch_container.training INFO     Block until all host DNS lookups succeed.\u001b[0m\n",
      "\u001b[34m2020-03-27 19:42:28,281 sagemaker_pytorch_container.training INFO     Invoking user training script.\u001b[0m\n",
      "\u001b[34m2020-03-27 19:42:31,927 sagemaker-containers INFO     Module default_user_module_name does not provide a setup.py. \u001b[0m\n",
      "\u001b[34mGenerating setup.py\u001b[0m\n",
      "\u001b[34m2020-03-27 19:42:31,927 sagemaker-containers INFO     Generating setup.cfg\u001b[0m\n",
      "\u001b[34m2020-03-27 19:42:31,927 sagemaker-containers INFO     Generating MANIFEST.in\u001b[0m\n",
      "\u001b[34m2020-03-27 19:42:31,927 sagemaker-containers INFO     Installing module with the following command:\u001b[0m\n",
      "\u001b[34m/opt/conda/bin/python -m pip install . \u001b[0m\n",
      "\u001b[34mProcessing /tmp/tmpo71nnmk9/module_dir\u001b[0m\n",
      "\u001b[34mBuilding wheels for collected packages: default-user-module-name\n",
      "  Building wheel for default-user-module-name (setup.py): started\u001b[0m\n",
      "\n",
      "2020-03-27 19:42:46 Uploading - Uploading generated training model\u001b[34m  Building wheel for default-user-module-name (setup.py): finished with status 'done'\n",
      "  Created wheel for default-user-module-name: filename=default_user_module_name-1.0.0-py2.py3-none-any.whl size=4364 sha256=332e33fd37f94d02bd83871d6b10a20b6bafbaa1fca3db430721d27c291b9c8b\n",
      "  Stored in directory: /tmp/pip-ephem-wheel-cache-a48c7acg/wheels/fe/09/46/06f7d7c77b5970180b2240bfdc8dc2ae682a3fd127632d9f17\u001b[0m\n",
      "\u001b[34mSuccessfully built default-user-module-name\u001b[0m\n",
      "\u001b[34mInstalling collected packages: default-user-module-name\u001b[0m\n",
      "\u001b[34mSuccessfully installed default-user-module-name-1.0.0\u001b[0m\n",
      "\u001b[34m2020-03-27 19:42:34,855 sagemaker-containers INFO     No GPUs detected (normal if no gpus installed)\u001b[0m\n",
      "\u001b[34m2020-03-27 19:42:34,870 sagemaker-containers INFO     No GPUs detected (normal if no gpus installed)\u001b[0m\n",
      "\u001b[34m2020-03-27 19:42:34,883 sagemaker-containers INFO     No GPUs detected (normal if no gpus installed)\u001b[0m\n",
      "\u001b[34m2020-03-27 19:42:34,895 sagemaker-containers INFO     Invoking user script\n",
      "\u001b[0m\n",
      "\u001b[34mTraining Env:\n",
      "\u001b[0m\n",
      "\u001b[34m{\n",
      "    \"additional_framework_parameters\": {},\n",
      "    \"channel_input_dirs\": {\n",
      "        \"train\": \"/opt/ml/input/data/train\"\n",
      "    },\n",
      "    \"current_host\": \"algo-1\",\n",
      "    \"framework_module\": \"sagemaker_pytorch_container.training:main\",\n",
      "    \"hosts\": [\n",
      "        \"algo-1\"\n",
      "    ],\n",
      "    \"hyperparameters\": {\n",
      "        \"hidden_dim\": 30,\n",
      "        \"input_features\": 6,\n",
      "        \"epochs\": 200,\n",
      "        \"output_dim\": 1\n",
      "    },\n",
      "    \"input_config_dir\": \"/opt/ml/input/config\",\n",
      "    \"input_data_config\": {\n",
      "        \"train\": {\n",
      "            \"TrainingInputMode\": \"File\",\n",
      "            \"S3DistributionType\": \"FullyReplicated\",\n",
      "            \"RecordWrapperType\": \"None\"\n",
      "        }\n",
      "    },\n",
      "    \"input_dir\": \"/opt/ml/input\",\n",
      "    \"is_master\": true,\n",
      "    \"job_name\": \"pytorch-training-2020-03-27-19-38-14-477\",\n",
      "    \"log_level\": 20,\n",
      "    \"master_hostname\": \"algo-1\",\n",
      "    \"model_dir\": \"/opt/ml/model\",\n",
      "    \"module_dir\": \"s3://sagemaker-us-east-1-788544388985/pytorch-training-2020-03-27-19-38-14-477/source/sourcedir.tar.gz\",\n",
      "    \"module_name\": \"train\",\n",
      "    \"network_interface_name\": \"eth0\",\n",
      "    \"num_cpus\": 4,\n",
      "    \"num_gpus\": 0,\n",
      "    \"output_data_dir\": \"/opt/ml/output/data\",\n",
      "    \"output_dir\": \"/opt/ml/output\",\n",
      "    \"output_intermediate_dir\": \"/opt/ml/output/intermediate\",\n",
      "    \"resource_config\": {\n",
      "        \"current_host\": \"algo-1\",\n",
      "        \"hosts\": [\n",
      "            \"algo-1\"\n",
      "        ],\n",
      "        \"network_interface_name\": \"eth0\"\n",
      "    },\n",
      "    \"user_entry_point\": \"train.py\"\u001b[0m\n",
      "\u001b[34m}\n",
      "\u001b[0m\n",
      "\u001b[34mEnvironment variables:\n",
      "\u001b[0m\n",
      "\u001b[34mSM_HOSTS=[\"algo-1\"]\u001b[0m\n",
      "\u001b[34mSM_NETWORK_INTERFACE_NAME=eth0\u001b[0m\n",
      "\u001b[34mSM_HPS={\"epochs\":200,\"hidden_dim\":30,\"input_features\":6,\"output_dim\":1}\u001b[0m\n",
      "\u001b[34mSM_USER_ENTRY_POINT=train.py\u001b[0m\n",
      "\u001b[34mSM_FRAMEWORK_PARAMS={}\u001b[0m\n",
      "\u001b[34mSM_RESOURCE_CONFIG={\"current_host\":\"algo-1\",\"hosts\":[\"algo-1\"],\"network_interface_name\":\"eth0\"}\u001b[0m\n",
      "\u001b[34mSM_INPUT_DATA_CONFIG={\"train\":{\"RecordWrapperType\":\"None\",\"S3DistributionType\":\"FullyReplicated\",\"TrainingInputMode\":\"File\"}}\u001b[0m\n",
      "\u001b[34mSM_OUTPUT_DATA_DIR=/opt/ml/output/data\u001b[0m\n",
      "\u001b[34mSM_CHANNELS=[\"train\"]\u001b[0m\n",
      "\u001b[34mSM_CURRENT_HOST=algo-1\u001b[0m\n",
      "\u001b[34mSM_MODULE_NAME=train\u001b[0m\n",
      "\u001b[34mSM_LOG_LEVEL=20\u001b[0m\n",
      "\u001b[34mSM_FRAMEWORK_MODULE=sagemaker_pytorch_container.training:main\u001b[0m\n",
      "\u001b[34mSM_INPUT_DIR=/opt/ml/input\u001b[0m\n",
      "\u001b[34mSM_INPUT_CONFIG_DIR=/opt/ml/input/config\u001b[0m\n",
      "\u001b[34mSM_OUTPUT_DIR=/opt/ml/output\u001b[0m\n",
      "\u001b[34mSM_NUM_CPUS=4\u001b[0m\n",
      "\u001b[34mSM_NUM_GPUS=0\u001b[0m\n",
      "\u001b[34mSM_MODEL_DIR=/opt/ml/model\u001b[0m\n",
      "\u001b[34mSM_MODULE_DIR=s3://sagemaker-us-east-1-788544388985/pytorch-training-2020-03-27-19-38-14-477/source/sourcedir.tar.gz\u001b[0m\n",
      "\u001b[34mSM_TRAINING_ENV={\"additional_framework_parameters\":{},\"channel_input_dirs\":{\"train\":\"/opt/ml/input/data/train\"},\"current_host\":\"algo-1\",\"framework_module\":\"sagemaker_pytorch_container.training:main\",\"hosts\":[\"algo-1\"],\"hyperparameters\":{\"epochs\":200,\"hidden_dim\":30,\"input_features\":6,\"output_dim\":1},\"input_config_dir\":\"/opt/ml/input/config\",\"input_data_config\":{\"train\":{\"RecordWrapperType\":\"None\",\"S3DistributionType\":\"FullyReplicated\",\"TrainingInputMode\":\"File\"}},\"input_dir\":\"/opt/ml/input\",\"is_master\":true,\"job_name\":\"pytorch-training-2020-03-27-19-38-14-477\",\"log_level\":20,\"master_hostname\":\"algo-1\",\"model_dir\":\"/opt/ml/model\",\"module_dir\":\"s3://sagemaker-us-east-1-788544388985/pytorch-training-2020-03-27-19-38-14-477/source/sourcedir.tar.gz\",\"module_name\":\"train\",\"network_interface_name\":\"eth0\",\"num_cpus\":4,\"num_gpus\":0,\"output_data_dir\":\"/opt/ml/output/data\",\"output_dir\":\"/opt/ml/output\",\"output_intermediate_dir\":\"/opt/ml/output/intermediate\",\"resource_config\":{\"current_host\":\"algo-1\",\"hosts\":[\"algo-1\"],\"network_interface_name\":\"eth0\"},\"user_entry_point\":\"train.py\"}\u001b[0m\n",
      "\u001b[34mSM_USER_ARGS=[\"--epochs\",\"200\",\"--hidden_dim\",\"30\",\"--input_features\",\"6\",\"--output_dim\",\"1\"]\u001b[0m\n",
      "\u001b[34mSM_OUTPUT_INTERMEDIATE_DIR=/opt/ml/output/intermediate\u001b[0m\n",
      "\u001b[34mSM_CHANNEL_TRAIN=/opt/ml/input/data/train\u001b[0m\n",
      "\u001b[34mSM_HP_HIDDEN_DIM=30\u001b[0m\n",
      "\u001b[34mSM_HP_INPUT_FEATURES=6\u001b[0m\n",
      "\u001b[34mSM_HP_EPOCHS=200\u001b[0m\n",
      "\u001b[34mSM_HP_OUTPUT_DIM=1\u001b[0m\n",
      "\u001b[34mPYTHONPATH=/opt/ml/code:/opt/conda/bin:/opt/conda/lib/python36.zip:/opt/conda/lib/python3.6:/opt/conda/lib/python3.6/lib-dynload:/opt/conda/lib/python3.6/site-packages\n",
      "\u001b[0m\n",
      "\u001b[34mInvoking script with the following command:\n",
      "\u001b[0m\n",
      "\u001b[34m/opt/conda/bin/python train.py --epochs 200 --hidden_dim 30 --input_features 6 --output_dim 1\n",
      "\n",
      "\u001b[0m\n",
      "\u001b[34mUsing device cpu.\u001b[0m\n",
      "\u001b[34m/opt/conda/lib/python3.6/site-packages/torch/nn/modules/loss.py:498: UserWarning: Using a target size (torch.Size([10])) that is different to the input size (torch.Size([10, 1])) is deprecated. Please ensure they have the same size.\u001b[0m\n",
      "\u001b[34mGet train data loader.\n",
      "  return F.binary_cross_entropy(input, target, weight=self.weight, reduction=self.reduction)\u001b[0m\n",
      "\u001b[34m[2020-03-27 19:42:39.198 algo-1:43 INFO json_config.py:90] Creating hook from json_config at /opt/ml/input/config/debughookconfig.json.\u001b[0m\n",
      "\u001b[34mERROR:root:'NoneType' object has no attribute 'write'\u001b[0m\n",
      "\u001b[34m[2020-03-27 19:42:39.199 algo-1:43 INFO hook.py:170] tensorboard_dir has not been set for the hook. SMDebug will not be exporting tensorboard summaries.\u001b[0m\n",
      "\u001b[34m[2020-03-27 19:42:39.199 algo-1:43 INFO hook.py:215] Saving to /opt/ml/output/tensors\u001b[0m\n",
      "\u001b[34m[2020-03-27 19:42:39.200 algo-1:43 INFO hook.py:351] Monitoring the collections: losses\u001b[0m\n",
      "\u001b[34mEpoch: 1, Loss: 0.6704960806029183\u001b[0m\n",
      "\u001b[34mEpoch: 2, Loss: 0.657599151134491\u001b[0m\n",
      "\u001b[34mEpoch: 3, Loss: 0.6551844562802996\u001b[0m\n",
      "\u001b[34mEpoch: 4, Loss: 0.654699947152819\u001b[0m\n",
      "\u001b[34mEpoch: 5, Loss: 0.6320687702723912\u001b[0m\n",
      "\u001b[34mEpoch: 6, Loss: 0.63701103414808\u001b[0m\n",
      "\u001b[34mEpoch: 7, Loss: 0.629167011805943\u001b[0m\n",
      "\u001b[34mEpoch: 8, Loss: 0.6144091231482369\u001b[0m\n",
      "\u001b[34mEpoch: 9, Loss: 0.60523693050657\u001b[0m\n",
      "\u001b[34mEpoch: 10, Loss: 0.5746101098401206\u001b[0m\n",
      "\u001b[34mEpoch: 11, Loss: 0.5996681324073246\u001b[0m\n",
      "\u001b[34mEpoch: 12, Loss: 0.5865666355405535\u001b[0m\n",
      "\u001b[34mEpoch: 13, Loss: 0.5762331400598798\u001b[0m\n",
      "\u001b[34mEpoch: 14, Loss: 0.5708795785903931\u001b[0m\n",
      "\u001b[34mEpoch: 15, Loss: 0.5682725012302399\u001b[0m\n",
      "\u001b[34mEpoch: 16, Loss: 0.5594866786684308\u001b[0m\n",
      "\u001b[34mEpoch: 17, Loss: 0.5648591816425323\u001b[0m\n",
      "\u001b[34mEpoch: 18, Loss: 0.5411065476281303\u001b[0m\n",
      "\u001b[34mEpoch: 19, Loss: 0.5508835060255868\u001b[0m\n",
      "\u001b[34mEpoch: 20, Loss: 0.5321230845791953\u001b[0m\n",
      "\u001b[34mEpoch: 21, Loss: 0.5388957858085632\u001b[0m\n",
      "\u001b[34mEpoch: 22, Loss: 0.5374933694090162\u001b[0m\n",
      "\u001b[34mEpoch: 23, Loss: 0.5178035710539136\u001b[0m\n",
      "\u001b[34mEpoch: 24, Loss: 0.4970000854560307\u001b[0m\n",
      "\u001b[34m2020-03-27 19:42:41,190 sagemaker-containers INFO     Reporting training SUCCESS\u001b[0m\n",
      "\u001b[34mEpoch: 25, Loss: 0.5148851232869285\u001b[0m\n",
      "\u001b[34mEpoch: 26, Loss: 0.5042601227760315\u001b[0m\n",
      "\u001b[34mEpoch: 27, Loss: 0.5007843843528202\u001b[0m\n",
      "\u001b[34mEpoch: 28, Loss: 0.5011635848454067\u001b[0m\n",
      "\u001b[34mEpoch: 29, Loss: 0.49874080078942434\u001b[0m\n",
      "\u001b[34mEpoch: 30, Loss: 0.48412577169282095\u001b[0m\n",
      "\u001b[34mEpoch: 31, Loss: 0.48339914424078806\u001b[0m\n",
      "\u001b[34mEpoch: 32, Loss: 0.4760755683694567\u001b[0m\n",
      "\u001b[34mEpoch: 33, Loss: 0.4665212801524571\u001b[0m\n",
      "\u001b[34mEpoch: 34, Loss: 0.4623304435185024\u001b[0m\n",
      "\u001b[34mEpoch: 35, Loss: 0.48199063539505005\u001b[0m\n",
      "\u001b[34mEpoch: 36, Loss: 0.4696130497114999\u001b[0m\n",
      "\u001b[34mEpoch: 37, Loss: 0.4703783563205174\u001b[0m\n",
      "\u001b[34mEpoch: 38, Loss: 0.4565597346850804\u001b[0m\n",
      "\u001b[34mEpoch: 39, Loss: 0.46920009170259747\u001b[0m\n",
      "\u001b[34mEpoch: 40, Loss: 0.45435268538338797\u001b[0m\n",
      "\u001b[34mEpoch: 41, Loss: 0.44170893515859333\u001b[0m\n",
      "\u001b[34mEpoch: 42, Loss: 0.4425068753106253\u001b[0m\n",
      "\u001b[34mEpoch: 43, Loss: 0.43279864532606943\u001b[0m\n",
      "\u001b[34mEpoch: 44, Loss: 0.44299121839659555\u001b[0m\n",
      "\u001b[34mEpoch: 45, Loss: 0.4313490646226065\u001b[0m\n",
      "\u001b[34mEpoch: 46, Loss: 0.42984134384563993\u001b[0m\n",
      "\u001b[34mEpoch: 47, Loss: 0.42558445249285015\u001b[0m\n",
      "\u001b[34mEpoch: 48, Loss: 0.42202375190598623\u001b[0m\n",
      "\u001b[34mEpoch: 49, Loss: 0.4215786073889051\u001b[0m\n",
      "\u001b[34mEpoch: 50, Loss: 0.402565666607448\u001b[0m\n",
      "\u001b[34mEpoch: 51, Loss: 0.4005948177405766\u001b[0m\n",
      "\u001b[34mEpoch: 52, Loss: 0.40550331132752554\u001b[0m\n",
      "\u001b[34mEpoch: 53, Loss: 0.39232357484953745\u001b[0m\n",
      "\u001b[34mEpoch: 54, Loss: 0.40632411411830355\u001b[0m\n",
      "\u001b[34mEpoch: 55, Loss: 0.39815367119652884\u001b[0m\n",
      "\u001b[34mEpoch: 56, Loss: 0.40152372632707867\u001b[0m\n",
      "\u001b[34mEpoch: 57, Loss: 0.38534854139600483\u001b[0m\n",
      "\u001b[34mEpoch: 58, Loss: 0.3927197371210371\u001b[0m\n",
      "\u001b[34mEpoch: 59, Loss: 0.4030394894736154\u001b[0m\n",
      "\u001b[34mEpoch: 60, Loss: 0.38933966628142763\u001b[0m\n",
      "\u001b[34mEpoch: 61, Loss: 0.3954607972076961\u001b[0m\n",
      "\u001b[34mEpoch: 62, Loss: 0.37625821573393686\u001b[0m\n",
      "\u001b[34mEpoch: 63, Loss: 0.37106505036354065\u001b[0m\n",
      "\u001b[34mEpoch: 64, Loss: 0.38549149462154936\u001b[0m\n",
      "\u001b[34mEpoch: 65, Loss: 0.37736854808671133\u001b[0m\n",
      "\u001b[34mEpoch: 66, Loss: 0.3704193426030023\u001b[0m\n",
      "\u001b[34mEpoch: 67, Loss: 0.3585168165819986\u001b[0m\n",
      "\u001b[34mEpoch: 68, Loss: 0.3631121324641364\u001b[0m\n",
      "\u001b[34mEpoch: 69, Loss: 0.35772695924554554\u001b[0m\n",
      "\u001b[34mEpoch: 70, Loss: 0.36628233960696627\u001b[0m\n",
      "\u001b[34mEpoch: 71, Loss: 0.3424279604639326\u001b[0m\n",
      "\u001b[34mEpoch: 72, Loss: 0.3656702552522932\u001b[0m\n",
      "\u001b[34mEpoch: 73, Loss: 0.3491521009377071\u001b[0m\n",
      "\u001b[34mEpoch: 74, Loss: 0.3505988802228655\u001b[0m\n",
      "\u001b[34mEpoch: 75, Loss: 0.3556952497788838\u001b[0m\n",
      "\u001b[34mEpoch: 76, Loss: 0.3536913756813322\u001b[0m\n",
      "\u001b[34mEpoch: 77, Loss: 0.3259624774966921\u001b[0m\n",
      "\u001b[34mEpoch: 78, Loss: 0.3245616342340197\u001b[0m\n",
      "\u001b[34mEpoch: 79, Loss: 0.33287534969193594\u001b[0m\n",
      "\u001b[34mEpoch: 80, Loss: 0.3386448196002415\u001b[0m\n",
      "\u001b[34mEpoch: 81, Loss: 0.33254348380225046\u001b[0m\n",
      "\u001b[34mEpoch: 82, Loss: 0.3354853774820055\u001b[0m\n",
      "\u001b[34mEpoch: 83, Loss: 0.3488298590694155\u001b[0m\n",
      "\u001b[34mEpoch: 84, Loss: 0.32168696394988466\u001b[0m\n",
      "\u001b[34mEpoch: 85, Loss: 0.31500719487667084\u001b[0m\n",
      "\u001b[34mEpoch: 86, Loss: 0.32432136152471813\u001b[0m\n",
      "\u001b[34mEpoch: 87, Loss: 0.31777068759713856\u001b[0m\n",
      "\u001b[34mEpoch: 88, Loss: 0.314772156732423\u001b[0m\n",
      "\u001b[34mEpoch: 89, Loss: 0.3083966204098293\u001b[0m\n",
      "\u001b[34mEpoch: 90, Loss: 0.31942878450666157\u001b[0m\n",
      "\u001b[34mEpoch: 91, Loss: 0.3161667266062328\u001b[0m\n",
      "\u001b[34mEpoch: 92, Loss: 0.30332533376557486\u001b[0m\n",
      "\u001b[34mEpoch: 93, Loss: 0.3181081605809076\u001b[0m\n",
      "\u001b[34mEpoch: 94, Loss: 0.3075932796512331\u001b[0m\n",
      "\u001b[34mEpoch: 95, Loss: 0.3106191690479006\u001b[0m\n",
      "\u001b[34mEpoch: 96, Loss: 0.280929725084986\u001b[0m\n",
      "\u001b[34mEpoch: 97, Loss: 0.2940415505852018\u001b[0m\n",
      "\u001b[34mEpoch: 98, Loss: 0.28743680885859896\u001b[0m\n",
      "\u001b[34mEpoch: 99, Loss: 0.3081248679331371\u001b[0m\n",
      "\u001b[34mEpoch: 100, Loss: 0.3018337722335543\u001b[0m\n",
      "\u001b[34mEpoch: 101, Loss: 0.2817322845969881\u001b[0m\n",
      "\u001b[34mEpoch: 102, Loss: 0.3075187887464251\u001b[0m\n",
      "\u001b[34mEpoch: 103, Loss: 0.30517726285117014\u001b[0m\n",
      "\u001b[34mEpoch: 104, Loss: 0.26995368940489634\u001b[0m\n",
      "\u001b[34mEpoch: 105, Loss: 0.2867709462131773\u001b[0m\n",
      "\u001b[34mEpoch: 106, Loss: 0.28175835737160276\u001b[0m\n",
      "\u001b[34mEpoch: 107, Loss: 0.2700363887207849\u001b[0m\n",
      "\u001b[34mEpoch: 108, Loss: 0.2852729175771986\u001b[0m\n",
      "\u001b[34mEpoch: 109, Loss: 0.29962364052023205\u001b[0m\n",
      "\u001b[34mEpoch: 110, Loss: 0.2847289464303425\u001b[0m\n",
      "\u001b[34mEpoch: 111, Loss: 0.285308695265225\u001b[0m\n",
      "\u001b[34mEpoch: 112, Loss: 0.30043256495680126\u001b[0m\n",
      "\u001b[34mEpoch: 113, Loss: 0.2663387507200241\u001b[0m\n",
      "\u001b[34mEpoch: 114, Loss: 0.2712469260607447\u001b[0m\n",
      "\u001b[34mEpoch: 115, Loss: 0.28543582345758167\u001b[0m\n",
      "\u001b[34mEpoch: 116, Loss: 0.29085218267781393\u001b[0m\n",
      "\u001b[34mEpoch: 117, Loss: 0.27586284279823303\u001b[0m\n",
      "\u001b[34mEpoch: 118, Loss: 0.276851230434009\u001b[0m\n",
      "\u001b[34mEpoch: 119, Loss: 0.28477709208215984\u001b[0m\n",
      "\u001b[34mEpoch: 120, Loss: 0.27814941108226776\u001b[0m\n",
      "\u001b[34mEpoch: 121, Loss: 0.2739034742116928\u001b[0m\n",
      "\u001b[34mEpoch: 122, Loss: 0.2496936810868127\u001b[0m\n",
      "\u001b[34mEpoch: 123, Loss: 0.287219517997333\u001b[0m\n",
      "\u001b[34mEpoch: 124, Loss: 0.27745893810476574\u001b[0m\n",
      "\u001b[34mEpoch: 125, Loss: 0.2615866107600076\u001b[0m\n",
      "\u001b[34mEpoch: 126, Loss: 0.28215040053640095\u001b[0m\n",
      "\u001b[34mEpoch: 127, Loss: 0.2693570681980678\u001b[0m\n",
      "\u001b[34mEpoch: 128, Loss: 0.26683821848460604\u001b[0m\n",
      "\u001b[34mEpoch: 129, Loss: 0.26846700587442945\u001b[0m\n",
      "\u001b[34mEpoch: 130, Loss: 0.2677915043064526\u001b[0m\n",
      "\u001b[34mEpoch: 131, Loss: 0.2515588956219809\u001b[0m\n",
      "\u001b[34mEpoch: 132, Loss: 0.26753686155591694\u001b[0m\n",
      "\u001b[34mEpoch: 133, Loss: 0.23740938092981065\u001b[0m\n",
      "\u001b[34mEpoch: 134, Loss: 0.29132906241076334\u001b[0m\n",
      "\u001b[34mEpoch: 135, Loss: 0.2855238893202373\u001b[0m\n",
      "\u001b[34mEpoch: 136, Loss: 0.24206500394003733\u001b[0m\n",
      "\u001b[34mEpoch: 137, Loss: 0.25114732661417555\u001b[0m\n",
      "\u001b[34mEpoch: 138, Loss: 0.24595317670277186\u001b[0m\n",
      "\u001b[34mEpoch: 139, Loss: 0.2593308112451008\u001b[0m\n",
      "\u001b[34mEpoch: 140, Loss: 0.24277661634343012\u001b[0m\n",
      "\u001b[34mEpoch: 141, Loss: 0.26518380641937256\u001b[0m\n",
      "\u001b[34mEpoch: 142, Loss: 0.22528343115534102\u001b[0m\n",
      "\u001b[34mEpoch: 143, Loss: 0.228153401187488\u001b[0m\n",
      "\u001b[34mEpoch: 144, Loss: 0.25111155744109837\u001b[0m\n",
      "\u001b[34mEpoch: 145, Loss: 0.25812822367463795\u001b[0m\n",
      "\u001b[34mEpoch: 146, Loss: 0.26354705010141644\u001b[0m\n",
      "\u001b[34mEpoch: 147, Loss: 0.23358695741210664\u001b[0m\n",
      "\u001b[34mEpoch: 148, Loss: 0.2316308787890843\u001b[0m\n",
      "\u001b[34mEpoch: 149, Loss: 0.23865248475755965\u001b[0m\n",
      "\u001b[34mEpoch: 150, Loss: 0.2329407004373414\u001b[0m\n",
      "\u001b[34mEpoch: 151, Loss: 0.2648161138807024\u001b[0m\n",
      "\u001b[34mEpoch: 152, Loss: 0.2608482156481062\u001b[0m\n",
      "\u001b[34mEpoch: 153, Loss: 0.24817580091101782\u001b[0m\n",
      "\u001b[34mEpoch: 154, Loss: 0.24728189408779144\u001b[0m\n",
      "\u001b[34mEpoch: 155, Loss: 0.2400847566979272\u001b[0m\n",
      "\u001b[34mEpoch: 156, Loss: 0.22406634049756186\u001b[0m\n",
      "\u001b[34mEpoch: 157, Loss: 0.22917506311620986\u001b[0m\n",
      "\u001b[34mEpoch: 158, Loss: 0.22373964105333602\u001b[0m\n",
      "\u001b[34mEpoch: 159, Loss: 0.2517624412264143\u001b[0m\n",
      "\u001b[34mEpoch: 160, Loss: 0.2354816538946969\u001b[0m\n",
      "\u001b[34mEpoch: 161, Loss: 0.2202811592391559\u001b[0m\n",
      "\u001b[34mEpoch: 162, Loss: 0.2332484062228884\u001b[0m\n",
      "\u001b[34mEpoch: 163, Loss: 0.24945247173309326\u001b[0m\n",
      "\u001b[34mEpoch: 164, Loss: 0.23120134217398508\u001b[0m\n",
      "\u001b[34mEpoch: 165, Loss: 0.22844309891973222\u001b[0m\n",
      "\u001b[34mEpoch: 166, Loss: 0.2333872126681464\u001b[0m\n",
      "\u001b[34mEpoch: 167, Loss: 0.24039384296962193\u001b[0m\n",
      "\u001b[34mEpoch: 168, Loss: 0.2469584888645581\u001b[0m\n",
      "\u001b[34mEpoch: 169, Loss: 0.24971024372747966\u001b[0m\n",
      "\u001b[34mEpoch: 170, Loss: 0.24600066244602203\u001b[0m\n",
      "\u001b[34mEpoch: 171, Loss: 0.2436046376824379\u001b[0m\n",
      "\u001b[34mEpoch: 172, Loss: 0.23611760245902197\u001b[0m\n",
      "\u001b[34mEpoch: 173, Loss: 0.20726310781070165\u001b[0m\n",
      "\u001b[34mEpoch: 174, Loss: 0.2373604221003396\u001b[0m\n",
      "\u001b[34mEpoch: 175, Loss: 0.25056308188608717\u001b[0m\n",
      "\u001b[34mEpoch: 176, Loss: 0.2285735426204545\u001b[0m\n",
      "\u001b[34mEpoch: 177, Loss: 0.22356766568762915\u001b[0m\n",
      "\u001b[34mEpoch: 178, Loss: 0.22549111183200563\u001b[0m\n",
      "\u001b[34mEpoch: 179, Loss: 0.23204405712229864\u001b[0m\n",
      "\u001b[34mEpoch: 180, Loss: 0.200791668679033\u001b[0m\n",
      "\u001b[34mEpoch: 181, Loss: 0.2315215649349349\u001b[0m\n",
      "\u001b[34mEpoch: 182, Loss: 0.20905216676848276\u001b[0m\n",
      "\u001b[34mEpoch: 183, Loss: 0.21132581255265645\u001b[0m\n",
      "\u001b[34mEpoch: 184, Loss: 0.22201939140047347\u001b[0m\n",
      "\u001b[34mEpoch: 185, Loss: 0.23180825263261795\u001b[0m\n",
      "\u001b[34mEpoch: 186, Loss: 0.22587377365146363\u001b[0m\n",
      "\u001b[34mEpoch: 187, Loss: 0.21845553708927973\u001b[0m\n",
      "\u001b[34mEpoch: 188, Loss: 0.23188628469194686\u001b[0m\n",
      "\u001b[34mEpoch: 189, Loss: 0.24447788617440633\u001b[0m\n",
      "\u001b[34mEpoch: 190, Loss: 0.22624873369932175\u001b[0m\n",
      "\u001b[34mEpoch: 191, Loss: 0.2068168701870101\u001b[0m\n",
      "\u001b[34mEpoch: 192, Loss: 0.24015319773129054\u001b[0m\n",
      "\u001b[34mEpoch: 193, Loss: 0.23763221661959374\u001b[0m\n",
      "\u001b[34mEpoch: 194, Loss: 0.22513573723179953\u001b[0m\n",
      "\u001b[34mEpoch: 195, Loss: 0.21020617761782237\u001b[0m\n",
      "\u001b[34mEpoch: 196, Loss: 0.24578282237052917\u001b[0m\n",
      "\u001b[34mEpoch: 197, Loss: 0.2022548264690808\u001b[0m\n",
      "\u001b[34mEpoch: 198, Loss: 0.20386199493493354\u001b[0m\n",
      "\u001b[34mEpoch: 199, Loss: 0.2328572486128126\u001b[0m\n",
      "\u001b[34mEpoch: 200, Loss: 0.2210601962038449\u001b[0m\n",
      "\u001b[34m[2020-03-27 19:42:40.878 algo-1:43 INFO utils.py:25] The end of training job file will not be written for jobs running under SageMaker.\u001b[0m\n",
      "\n",
      "2020-03-27 19:42:53 Completed - Training job completed\n",
      "Training seconds: 98\n",
      "Billable seconds: 98\n",
      "CPU times: user 706 ms, sys: 25.5 ms, total: 731 ms\n",
      "Wall time: 5min 12s\n"
     ]
    }
   ],
   "source": [
    "%%time\n",
    "\n",
    "# Train your estimator on S3 training data\n",
    "\n",
    "py_torch.fit({'train': train_location})"
   ]
  },
  {
   "cell_type": "code",
   "execution_count": 18,
   "metadata": {
    "collapsed": true,
    "jupyter": {
     "outputs_hidden": true
    }
   },
   "outputs": [
    {
     "name": "stdout",
     "output_type": "stream",
     "text": [
      "2020-03-27 19:43:27 Starting - Starting the training job...\n",
      "2020-03-27 19:43:30 Starting - Launching requested ML instances............\n",
      "2020-03-27 19:45:41 Starting - Preparing the instances for training......\n",
      "2020-03-27 19:46:46 Downloading - Downloading input data...\n",
      "2020-03-27 19:47:10 Training - Downloading the training image.\u001b[34m2020-03-27 19:47:30,693 sagemaker-containers INFO     Imported framework sagemaker_sklearn_container.training\u001b[0m\n",
      "\u001b[34m2020-03-27 19:47:30,695 sagemaker-containers INFO     No GPUs detected (normal if no gpus installed)\u001b[0m\n",
      "\u001b[34m2020-03-27 19:47:30,705 sagemaker_sklearn_container.training INFO     Invoking user training script.\u001b[0m\n",
      "\u001b[34m2020-03-27 19:47:31,058 sagemaker-containers INFO     Module train does not provide a setup.py. \u001b[0m\n",
      "\u001b[34mGenerating setup.py\u001b[0m\n",
      "\u001b[34m2020-03-27 19:47:31,058 sagemaker-containers INFO     Generating setup.cfg\u001b[0m\n",
      "\u001b[34m2020-03-27 19:47:31,058 sagemaker-containers INFO     Generating MANIFEST.in\u001b[0m\n",
      "\u001b[34m2020-03-27 19:47:31,059 sagemaker-containers INFO     Installing module with the following command:\u001b[0m\n",
      "\u001b[34m/miniconda3/bin/python -m pip install . \u001b[0m\n",
      "\u001b[34mProcessing /opt/ml/code\u001b[0m\n",
      "\u001b[34mBuilding wheels for collected packages: train\n",
      "  Building wheel for train (setup.py): started\n",
      "  Building wheel for train (setup.py): finished with status 'done'\n",
      "  Created wheel for train: filename=train-1.0.0-py2.py3-none-any.whl size=7124 sha256=068d65f13c8a6a29ce8eab93dc108f938b06445828318ff20f1d59c333f236bf\n",
      "  Stored in directory: /tmp/pip-ephem-wheel-cache-p14qun4_/wheels/35/24/16/37574d11bf9bde50616c67372a334f94fa8356bc7164af8ca3\u001b[0m\n",
      "\u001b[34mSuccessfully built train\u001b[0m\n",
      "\u001b[34mInstalling collected packages: train\u001b[0m\n",
      "\u001b[34mSuccessfully installed train-1.0.0\u001b[0m\n",
      "\u001b[34m2020-03-27 19:47:32,335 sagemaker-containers INFO     No GPUs detected (normal if no gpus installed)\u001b[0m\n",
      "\u001b[34m2020-03-27 19:47:32,345 sagemaker-containers INFO     Invoking user script\n",
      "\u001b[0m\n",
      "\u001b[34mTraining Env:\n",
      "\u001b[0m\n",
      "\u001b[34m{\n",
      "    \"additional_framework_parameters\": {},\n",
      "    \"channel_input_dirs\": {\n",
      "        \"train\": \"/opt/ml/input/data/train\"\n",
      "    },\n",
      "    \"current_host\": \"algo-1\",\n",
      "    \"framework_module\": \"sagemaker_sklearn_container.training:main\",\n",
      "    \"hosts\": [\n",
      "        \"algo-1\"\n",
      "    ],\n",
      "    \"hyperparameters\": {\n",
      "        \"max_depth\": 10\n",
      "    },\n",
      "    \"input_config_dir\": \"/opt/ml/input/config\",\n",
      "    \"input_data_config\": {\n",
      "        \"train\": {\n",
      "            \"TrainingInputMode\": \"File\",\n",
      "            \"S3DistributionType\": \"FullyReplicated\",\n",
      "            \"RecordWrapperType\": \"None\"\n",
      "        }\n",
      "    },\n",
      "    \"input_dir\": \"/opt/ml/input\",\n",
      "    \"is_master\": true,\n",
      "    \"job_name\": \"sagemaker-scikit-learn-2020-03-27-19-43-27-277\",\n",
      "    \"log_level\": 20,\n",
      "    \"master_hostname\": \"algo-1\",\n",
      "    \"model_dir\": \"/opt/ml/model\",\n",
      "    \"module_dir\": \"s3://sagemaker-us-east-1-788544388985/sagemaker-scikit-learn-2020-03-27-19-43-27-277/source/sourcedir.tar.gz\",\n",
      "    \"module_name\": \"train\",\n",
      "    \"network_interface_name\": \"eth0\",\n",
      "    \"num_cpus\": 4,\n",
      "    \"num_gpus\": 0,\n",
      "    \"output_data_dir\": \"/opt/ml/output/data\",\n",
      "    \"output_dir\": \"/opt/ml/output\",\n",
      "    \"output_intermediate_dir\": \"/opt/ml/output/intermediate\",\n",
      "    \"resource_config\": {\n",
      "        \"current_host\": \"algo-1\",\n",
      "        \"hosts\": [\n",
      "            \"algo-1\"\n",
      "        ],\n",
      "        \"network_interface_name\": \"eth0\"\n",
      "    },\n",
      "    \"user_entry_point\": \"train.py\"\u001b[0m\n",
      "\u001b[34m}\n",
      "\u001b[0m\n",
      "\u001b[34mEnvironment variables:\n",
      "\u001b[0m\n",
      "\u001b[34mSM_HOSTS=[\"algo-1\"]\u001b[0m\n",
      "\u001b[34mSM_NETWORK_INTERFACE_NAME=eth0\u001b[0m\n",
      "\u001b[34mSM_HPS={\"max_depth\":10}\u001b[0m\n",
      "\u001b[34mSM_USER_ENTRY_POINT=train.py\u001b[0m\n",
      "\u001b[34mSM_FRAMEWORK_PARAMS={}\u001b[0m\n",
      "\u001b[34mSM_RESOURCE_CONFIG={\"current_host\":\"algo-1\",\"hosts\":[\"algo-1\"],\"network_interface_name\":\"eth0\"}\u001b[0m\n",
      "\u001b[34mSM_INPUT_DATA_CONFIG={\"train\":{\"RecordWrapperType\":\"None\",\"S3DistributionType\":\"FullyReplicated\",\"TrainingInputMode\":\"File\"}}\u001b[0m\n",
      "\u001b[34mSM_OUTPUT_DATA_DIR=/opt/ml/output/data\u001b[0m\n",
      "\u001b[34mSM_CHANNELS=[\"train\"]\u001b[0m\n",
      "\u001b[34mSM_CURRENT_HOST=algo-1\u001b[0m\n",
      "\u001b[34mSM_MODULE_NAME=train\u001b[0m\n",
      "\u001b[34mSM_LOG_LEVEL=20\u001b[0m\n",
      "\u001b[34mSM_FRAMEWORK_MODULE=sagemaker_sklearn_container.training:main\u001b[0m\n",
      "\u001b[34mSM_INPUT_DIR=/opt/ml/input\u001b[0m\n",
      "\u001b[34mSM_INPUT_CONFIG_DIR=/opt/ml/input/config\u001b[0m\n",
      "\u001b[34mSM_OUTPUT_DIR=/opt/ml/output\u001b[0m\n",
      "\u001b[34mSM_NUM_CPUS=4\u001b[0m\n",
      "\u001b[34mSM_NUM_GPUS=0\u001b[0m\n",
      "\u001b[34mSM_MODEL_DIR=/opt/ml/model\u001b[0m\n",
      "\u001b[34mSM_MODULE_DIR=s3://sagemaker-us-east-1-788544388985/sagemaker-scikit-learn-2020-03-27-19-43-27-277/source/sourcedir.tar.gz\u001b[0m\n",
      "\u001b[34mSM_TRAINING_ENV={\"additional_framework_parameters\":{},\"channel_input_dirs\":{\"train\":\"/opt/ml/input/data/train\"},\"current_host\":\"algo-1\",\"framework_module\":\"sagemaker_sklearn_container.training:main\",\"hosts\":[\"algo-1\"],\"hyperparameters\":{\"max_depth\":10},\"input_config_dir\":\"/opt/ml/input/config\",\"input_data_config\":{\"train\":{\"RecordWrapperType\":\"None\",\"S3DistributionType\":\"FullyReplicated\",\"TrainingInputMode\":\"File\"}},\"input_dir\":\"/opt/ml/input\",\"is_master\":true,\"job_name\":\"sagemaker-scikit-learn-2020-03-27-19-43-27-277\",\"log_level\":20,\"master_hostname\":\"algo-1\",\"model_dir\":\"/opt/ml/model\",\"module_dir\":\"s3://sagemaker-us-east-1-788544388985/sagemaker-scikit-learn-2020-03-27-19-43-27-277/source/sourcedir.tar.gz\",\"module_name\":\"train\",\"network_interface_name\":\"eth0\",\"num_cpus\":4,\"num_gpus\":0,\"output_data_dir\":\"/opt/ml/output/data\",\"output_dir\":\"/opt/ml/output\",\"output_intermediate_dir\":\"/opt/ml/output/intermediate\",\"resource_config\":{\"current_host\":\"algo-1\",\"hosts\":[\"algo-1\"],\"network_interface_name\":\"eth0\"},\"user_entry_point\":\"train.py\"}\u001b[0m\n",
      "\u001b[34mSM_USER_ARGS=[\"--max_depth\",\"10\"]\u001b[0m\n",
      "\u001b[34mSM_OUTPUT_INTERMEDIATE_DIR=/opt/ml/output/intermediate\u001b[0m\n",
      "\u001b[34mSM_CHANNEL_TRAIN=/opt/ml/input/data/train\u001b[0m\n",
      "\u001b[34mSM_HP_MAX_DEPTH=10\u001b[0m\n",
      "\u001b[34mPYTHONPATH=/miniconda3/bin:/miniconda3/lib/python37.zip:/miniconda3/lib/python3.7:/miniconda3/lib/python3.7/lib-dynload:/miniconda3/lib/python3.7/site-packages\n",
      "\u001b[0m\n",
      "\u001b[34mInvoking script with the following command:\n",
      "\u001b[0m\n",
      "\u001b[34m/miniconda3/bin/python -m train --max_depth 10\n",
      "\n",
      "\u001b[0m\n",
      "\u001b[34m/miniconda3/lib/python3.7/site-packages/sklearn/externals/joblib/externals/cloudpickle/cloudpickle.py:47: DeprecationWarning: the imp module is deprecated in favour of importlib; see the module's documentation for alternative uses\n",
      "  import imp\u001b[0m\n",
      "\u001b[34m2020-03-27 19:47:33,590 sagemaker-containers INFO     Reporting training SUCCESS\u001b[0m\n",
      "\n",
      "2020-03-27 19:47:42 Uploading - Uploading generated training model\n",
      "2020-03-27 19:47:42 Completed - Training job completed\n",
      "Training seconds: 56\n",
      "Billable seconds: 56\n",
      "CPU times: user 552 ms, sys: 14.2 ms, total: 566 ms\n",
      "Wall time: 4min 42s\n"
     ]
    }
   ],
   "source": [
    "%%time\n",
    "\n",
    "# Train your estimator on S3 training data\n",
    "\n",
    "sk_learn.fit({'train': train_location})"
   ]
  },
  {
   "cell_type": "markdown",
   "metadata": {},
   "source": [
    "## EXERCISE: Deploy the trained model\n",
    "\n",
    "After training, deploy your model to create a `predictor`. If you're using a PyTorch model, you'll need to create a trained `PyTorchModel` that accepts the trained `<model>.model_data` as an input parameter and points to the provided `source_pytorch/predict.py` file as an entry point. \n",
    "\n",
    "To deploy a trained model, you'll use `<model>.deploy`, which takes in two arguments:\n",
    "* **initial_instance_count**: The number of deployed instances (1).\n",
    "* **instance_type**: The type of SageMaker instance for deployment.\n",
    "\n",
    "Note: If you run into an instance error, it may be because you chose the wrong training or deployment instance_type. It may help to refer to your previous exercise code to see which types of instances we used."
   ]
  },
  {
   "cell_type": "code",
   "execution_count": 29,
   "metadata": {},
   "outputs": [
    {
     "name": "stderr",
     "output_type": "stream",
     "text": [
      "WARNING:sagemaker:Using already existing model: sagemaker-xgboost-2020-03-27-19-59-17-748\n"
     ]
    },
    {
     "name": "stdout",
     "output_type": "stream",
     "text": [
      "-----------------!CPU times: user 270 ms, sys: 5.39 ms, total: 275 ms\n",
      "Wall time: 8min 33s\n"
     ]
    }
   ],
   "source": [
    "%%time\n",
    "\n",
    "# deploy your model to create a predictor\n",
    "xgb_predictor = xgb.deploy(initial_instance_count=1, instance_type='ml.m4.xlarge')\n"
   ]
  },
  {
   "cell_type": "code",
   "execution_count": 27,
   "metadata": {},
   "outputs": [
    {
     "name": "stdout",
     "output_type": "stream",
     "text": [
      "-------------------!CPU times: user 365 ms, sys: 9.84 ms, total: 375 ms\n",
      "Wall time: 9min 32s\n"
     ]
    }
   ],
   "source": [
    "%%time\n",
    "\n",
    "from sagemaker.pytorch import PyTorchModel\n",
    "\n",
    "pytorch_model = PyTorchModel(\n",
    "    model_data=py_torch.model_data,\n",
    "    entry_point='predict.py',\n",
    "    source_dir='source_pytorch',\n",
    "    role=role,\n",
    "    sagemaker_session=sagemaker_session,\n",
    "    framework_version='1.4.0'\n",
    ")\n",
    "\n",
    "# deploy your model to create a predictor\n",
    "pytorch_predictor = pytorch_model.deploy(\n",
    "    initial_instance_count=1,\n",
    "    instance_type='ml.t2.medium'\n",
    ")\n"
   ]
  },
  {
   "cell_type": "code",
   "execution_count": 30,
   "metadata": {},
   "outputs": [
    {
     "name": "stdout",
     "output_type": "stream",
     "text": [
      "---------------!CPU times: user 252 ms, sys: 310 µs, total: 252 ms\n",
      "Wall time: 7min 32s\n"
     ]
    }
   ],
   "source": [
    "%%time\n",
    "\n",
    "# deploy your model to create a predictor\n",
    "sklearn_predictor = sk_learn.deploy(\n",
    "    initial_instance_count=1,\n",
    "    instance_type='ml.t2.medium'\n",
    ")\n"
   ]
  },
  {
   "cell_type": "markdown",
   "metadata": {},
   "source": [
    "---\n",
    "# Evaluating Your Model\n",
    "\n",
    "Once your model is deployed, you can see how it performs when applied to our test data.\n",
    "\n",
    "The provided cell below, reads in the test data, assuming it is stored locally in `data_dir` and named `test.csv`. The labels and features are extracted from the `.csv` file."
   ]
  },
  {
   "cell_type": "code",
   "execution_count": 31,
   "metadata": {},
   "outputs": [],
   "source": [
    "\"\"\"\n",
    "DON'T MODIFY ANYTHING IN THIS CELL THAT IS BELOW THIS LINE\n",
    "\"\"\"\n",
    "import os\n",
    "\n",
    "# read in test data, assuming it is stored locally\n",
    "test_data = pd.read_csv(os.path.join(data_dir, \"test.csv\"), header=None, names=None)\n",
    "\n",
    "# labels are in the first column\n",
    "test_y = test_data.iloc[:,0]\n",
    "test_x = test_data.iloc[:,1:]"
   ]
  },
  {
   "cell_type": "markdown",
   "metadata": {},
   "source": [
    "## EXERCISE: Determine the accuracy of your model\n",
    "\n",
    "Use your deployed `predictor` to generate predicted, class labels for the test data. Compare those to the *true* labels, `test_y`, and calculate the accuracy as a value between 0 and 1.0 that indicates the fraction of test data that your model classified correctly. You may use [sklearn.metrics](https://scikit-learn.org/stable/modules/classes.html#module-sklearn.metrics) for this calculation.\n",
    "\n",
    "**To pass this project, your model should get at least 90% test accuracy.**"
   ]
  },
  {
   "cell_type": "code",
   "execution_count": 33,
   "metadata": {},
   "outputs": [
    {
     "name": "stdout",
     "output_type": "stream",
     "text": [
      "Test passed!\n"
     ]
    }
   ],
   "source": [
    "from sagemaker.predictor import csv_serializer\n",
    "import numpy as np\n",
    "\n",
    "# We need to tell the endpoint what format the data we are sending is in\n",
    "xgb_predictor.content_type = 'text/csv'\n",
    "xgb_predictor.serializer = csv_serializer\n",
    "\n",
    "# First: generate predicted, class labels\n",
    "xgb_test_y_preds = np.fromstring(\n",
    "    xgb_predictor.predict(test_x.values).decode('utf-8'),\n",
    "    sep=','\n",
    ")\n",
    "\n",
    "\n",
    "\"\"\"\n",
    "DON'T MODIFY ANYTHING IN THIS CELL THAT IS BELOW THIS LINE\n",
    "\"\"\"\n",
    "# test that your model generates the correct number of labels\n",
    "assert len(xgb_test_y_preds)==len(test_y), 'Unexpected number of predictions.'\n",
    "print('Test passed!')"
   ]
  },
  {
   "cell_type": "code",
   "execution_count": 34,
   "metadata": {},
   "outputs": [
    {
     "name": "stdout",
     "output_type": "stream",
     "text": [
      "Test passed!\n"
     ]
    }
   ],
   "source": [
    "# First: generate predicted, class labels\n",
    "pytorch_test_y_preds = np.squeeze(\n",
    "    np.round(pytorch_predictor.predict(test_x))\n",
    ")\n",
    "\n",
    "\n",
    "\"\"\"\n",
    "DON'T MODIFY ANYTHING IN THIS CELL THAT IS BELOW THIS LINE\n",
    "\"\"\"\n",
    "# test that your model generates the correct number of labels\n",
    "assert len(pytorch_test_y_preds)==len(test_y), 'Unexpected number of predictions.'\n",
    "print('Test passed!')"
   ]
  },
  {
   "cell_type": "code",
   "execution_count": 36,
   "metadata": {},
   "outputs": [
    {
     "name": "stdout",
     "output_type": "stream",
     "text": [
      "Test passed!\n"
     ]
    }
   ],
   "source": [
    "# First: generate predicted, class labels\n",
    "sklearn_test_y_preds = sklearn_predictor.predict(test_x)\n",
    "\n",
    "\n",
    "\"\"\"\n",
    "DON'T MODIFY ANYTHING IN THIS CELL THAT IS BELOW THIS LINE\n",
    "\"\"\"\n",
    "# test that your model generates the correct number of labels\n",
    "assert len(sklearn_test_y_preds)==len(test_y), 'Unexpected number of predictions.'\n",
    "print('Test passed!')"
   ]
  },
  {
   "cell_type": "code",
   "execution_count": 38,
   "metadata": {},
   "outputs": [
    {
     "data": {
      "text/plain": [
       "array([1., 1., 1., 1., 1., 1., 0., 0., 0., 0., 0., 0., 1., 1., 1., 1., 1.,\n",
       "       1., 0., 1., 0., 1., 1., 0., 0.])"
      ]
     },
     "execution_count": 38,
     "metadata": {},
     "output_type": "execute_result"
    }
   ],
   "source": [
    "xgb_test_y_preds = np.round(xgb_test_y_preds)\n",
    "xgb_test_y_preds"
   ]
  },
  {
   "cell_type": "code",
   "execution_count": 39,
   "metadata": {},
   "outputs": [
    {
     "name": "stdout",
     "output_type": "stream",
     "text": [
      "1.0\n",
      "\n",
      "Predicted class labels: \n",
      "[1. 1. 1. 1. 1. 1. 0. 0. 0. 0. 0. 0. 1. 1. 1. 1. 1. 1. 0. 1. 0. 1. 1. 0.\n",
      " 0.]\n",
      "\n",
      "True class labels: \n",
      "[1 1 1 1 1 1 0 0 0 0 0 0 1 1 1 1 1 1 0 1 0 1 1 0 0]\n"
     ]
    }
   ],
   "source": [
    "# Second: calculate the test accuracy\n",
    "xgb_accuracy = sum(xgb_test_y_preds == test_y)/len(test_y)\n",
    "\n",
    "print(xgb_accuracy)\n",
    "\n",
    "\n",
    "## print out the array of predicted and true labels, if you want\n",
    "print('\\nPredicted class labels: ')\n",
    "print(xgb_test_y_preds)\n",
    "print('\\nTrue class labels: ')\n",
    "print(test_y.values)"
   ]
  },
  {
   "cell_type": "code",
   "execution_count": 41,
   "metadata": {},
   "outputs": [
    {
     "data": {
      "text/plain": [
       "array([1., 1., 1., 1., 1., 1., 0., 0., 0., 0., 0., 0., 1., 1., 1., 1., 1.,\n",
       "       1., 0., 1., 0., 1., 1., 0., 0.], dtype=float32)"
      ]
     },
     "execution_count": 41,
     "metadata": {},
     "output_type": "execute_result"
    }
   ],
   "source": [
    "pytorch_test_y_preds"
   ]
  },
  {
   "cell_type": "code",
   "execution_count": 42,
   "metadata": {},
   "outputs": [
    {
     "name": "stdout",
     "output_type": "stream",
     "text": [
      "1.0\n",
      "\n",
      "Predicted class labels: \n",
      "[1. 1. 1. 1. 1. 1. 0. 0. 0. 0. 0. 0. 1. 1. 1. 1. 1. 1. 0. 1. 0. 1. 1. 0.\n",
      " 0.]\n",
      "\n",
      "True class labels: \n",
      "[1 1 1 1 1 1 0 0 0 0 0 0 1 1 1 1 1 1 0 1 0 1 1 0 0]\n"
     ]
    }
   ],
   "source": [
    "# Second: calculate the test accuracy\n",
    "pytorch_accuracy = sum(pytorch_test_y_preds == test_y)/len(test_y)\n",
    "\n",
    "print(pytorch_accuracy)\n",
    "\n",
    "\n",
    "## print out the array of predicted and true labels, if you want\n",
    "print('\\nPredicted class labels: ')\n",
    "print(pytorch_test_y_preds)\n",
    "print('\\nTrue class labels: ')\n",
    "print(test_y.values)"
   ]
  },
  {
   "cell_type": "code",
   "execution_count": 43,
   "metadata": {},
   "outputs": [
    {
     "data": {
      "text/plain": [
       "array([1, 1, 1, 1, 1, 1, 0, 0, 0, 0, 0, 1, 1, 1, 1, 1, 1, 1, 0, 1, 0, 1,\n",
       "       1, 1, 1])"
      ]
     },
     "execution_count": 43,
     "metadata": {},
     "output_type": "execute_result"
    }
   ],
   "source": [
    "sklearn_test_y_preds"
   ]
  },
  {
   "cell_type": "code",
   "execution_count": 44,
   "metadata": {},
   "outputs": [
    {
     "name": "stdout",
     "output_type": "stream",
     "text": [
      "0.88\n",
      "\n",
      "Predicted class labels: \n",
      "[1 1 1 1 1 1 0 0 0 0 0 1 1 1 1 1 1 1 0 1 0 1 1 1 1]\n",
      "\n",
      "True class labels: \n",
      "[1 1 1 1 1 1 0 0 0 0 0 0 1 1 1 1 1 1 0 1 0 1 1 0 0]\n"
     ]
    }
   ],
   "source": [
    "# Second: calculate the test accuracy\n",
    "sklearn_accuracy = sum(sklearn_test_y_preds == test_y)/len(test_y)\n",
    "\n",
    "print(sklearn_accuracy)\n",
    "\n",
    "\n",
    "## print out the array of predicted and true labels, if you want\n",
    "print('\\nPredicted class labels: ')\n",
    "print(sklearn_test_y_preds)\n",
    "print('\\nTrue class labels: ')\n",
    "print(test_y.values)"
   ]
  },
  {
   "cell_type": "code",
   "execution_count": 46,
   "metadata": {},
   "outputs": [],
   "source": [
    "# code to evaluate the endpoint on test data\n",
    "# returns a variety of model metrics\n",
    "def evaluate(test_preds, test_labels, verbose=True):\n",
    "    \"\"\"\n",
    "    Evaluate a model on a test set given the predictions.  \n",
    "    Return binary classification metrics.\n",
    "    :param test_preds: The predicted values\n",
    "    :param test_labels: Class labels for test data\n",
    "    :param verbose: If True, prints a table of all performance metrics\n",
    "    :return: A dictionary of performance metrics.\n",
    "    \"\"\"\n",
    "    \n",
    "    \n",
    "    # calculate true positives, false positives, true negatives, false negatives\n",
    "    tp = np.logical_and(test_labels, test_preds).sum()\n",
    "    fp = np.logical_and(1-test_labels, test_preds).sum()\n",
    "    tn = np.logical_and(1-test_labels, 1-test_preds).sum()\n",
    "    fn = np.logical_and(test_labels, 1-test_preds).sum()\n",
    "    \n",
    "    # calculate binary classification metrics\n",
    "    recall = tp / (tp + fn)\n",
    "    precision = tp / (tp + fp)\n",
    "    accuracy = (tp + tn) / (tp + fp + tn + fn)\n",
    "    \n",
    "    # print metrics\n",
    "    if verbose:\n",
    "        print(pd.crosstab(test_labels, test_preds, rownames=['actuals'], colnames=['predictions']))\n",
    "        print(\"\\n{:<11} {:.3f}\".format('Recall:', recall))\n",
    "        print(\"{:<11} {:.3f}\".format('Precision:', precision))\n",
    "        print(\"{:<11} {:.3f}\".format('Accuracy:', accuracy))\n",
    "        print()\n",
    "        \n",
    "    return {'TP': tp, 'FP': fp, 'FN': fn, 'TN': tn, \n",
    "            'Precision': precision, 'Recall': recall, 'Accuracy': accuracy}"
   ]
  },
  {
   "cell_type": "code",
   "execution_count": 47,
   "metadata": {},
   "outputs": [
    {
     "name": "stdout",
     "output_type": "stream",
     "text": [
      "predictions  0   1\n",
      "actuals           \n",
      "0            7   3\n",
      "1            0  15\n",
      "\n",
      "Recall:     1.000\n",
      "Precision:  0.833\n",
      "Accuracy:   0.880\n",
      "\n"
     ]
    },
    {
     "data": {
      "text/plain": [
       "{'TP': 15,\n",
       " 'FP': 3,\n",
       " 'FN': 0,\n",
       " 'TN': 7,\n",
       " 'Precision': 0.8333333333333334,\n",
       " 'Recall': 1.0,\n",
       " 'Accuracy': 0.88}"
      ]
     },
     "execution_count": 47,
     "metadata": {},
     "output_type": "execute_result"
    }
   ],
   "source": [
    "evaluate(sklearn_test_y_preds, test_y, True)"
   ]
  },
  {
   "cell_type": "code",
   "execution_count": 48,
   "metadata": {},
   "outputs": [
    {
     "name": "stdout",
     "output_type": "stream",
     "text": [
      "predictions  0.0  1.0\n",
      "actuals              \n",
      "0             10    0\n",
      "1              0   15\n",
      "\n",
      "Recall:     1.000\n",
      "Precision:  1.000\n",
      "Accuracy:   1.000\n",
      "\n"
     ]
    },
    {
     "data": {
      "text/plain": [
       "{'TP': 15,\n",
       " 'FP': 0,\n",
       " 'FN': 0,\n",
       " 'TN': 10,\n",
       " 'Precision': 1.0,\n",
       " 'Recall': 1.0,\n",
       " 'Accuracy': 1.0}"
      ]
     },
     "execution_count": 48,
     "metadata": {},
     "output_type": "execute_result"
    }
   ],
   "source": [
    "evaluate(xgb_test_y_preds, test_y, True)"
   ]
  },
  {
   "cell_type": "code",
   "execution_count": 49,
   "metadata": {},
   "outputs": [
    {
     "name": "stdout",
     "output_type": "stream",
     "text": [
      "predictions  0.0  1.0\n",
      "actuals              \n",
      "0             10    0\n",
      "1              0   15\n",
      "\n",
      "Recall:     1.000\n",
      "Precision:  1.000\n",
      "Accuracy:   1.000\n",
      "\n"
     ]
    },
    {
     "data": {
      "text/plain": [
       "{'TP': 15,\n",
       " 'FP': 0,\n",
       " 'FN': 0,\n",
       " 'TN': 10,\n",
       " 'Precision': 1.0,\n",
       " 'Recall': 1.0,\n",
       " 'Accuracy': 1.0}"
      ]
     },
     "execution_count": 49,
     "metadata": {},
     "output_type": "execute_result"
    }
   ],
   "source": [
    "evaluate(pytorch_test_y_preds, test_y, True)"
   ]
  },
  {
   "cell_type": "markdown",
   "metadata": {},
   "source": [
    "### Question 1: How many false positives and false negatives did your model produce, if any? And why do you think this is?"
   ]
  },
  {
   "cell_type": "markdown",
   "metadata": {},
   "source": [
    "**Answer**:\n",
    "\n",
    "The first two models, the _xgboost_ and _pytorch_ models had an accuracy of 100% and therefore no false positives or false negatives. Such a scenario might hint to overfitting. It is possible that the small dataset involved lead to such overfitting.\n",
    "\n",
    "On the other hand the _sklearn_ model had 3 false positives and 0 false negatives. The _sklearn_ model was not as sophisticated as the two. It was a statistical model of a decision tree unlike the other more sophisticated models.\n"
   ]
  },
  {
   "cell_type": "markdown",
   "metadata": {},
   "source": [
    "### Question 2: How did you decide on the type of model to use? "
   ]
  },
  {
   "cell_type": "markdown",
   "metadata": {},
   "source": [
    "** Answer**:\n",
    "\n"
   ]
  },
  {
   "cell_type": "markdown",
   "metadata": {},
   "source": [
    "----\n",
    "## EXERCISE: Clean up Resources\n",
    "\n",
    "After you're done evaluating your model, **delete your model endpoint**. You can do this with a call to `.delete_endpoint()`. You need to show, in this notebook, that the endpoint was deleted. Any other resources, you may delete from the AWS console, and you will find more instructions on cleaning up all your resources, below."
   ]
  },
  {
   "cell_type": "code",
   "execution_count": null,
   "metadata": {
    "collapsed": true,
    "jupyter": {
     "outputs_hidden": true
    }
   },
   "outputs": [],
   "source": [
    "# uncomment and fill in the line below!\n",
    "# <name_of_deployed_predictor>.delete_endpoint()\n"
   ]
  },
  {
   "cell_type": "markdown",
   "metadata": {},
   "source": [
    "### Deleting S3 bucket\n",
    "\n",
    "When you are *completely* done with training and testing models, you can also delete your entire S3 bucket. If you do this before you are done training your model, you'll have to recreate your S3 bucket and upload your training data again."
   ]
  },
  {
   "cell_type": "code",
   "execution_count": null,
   "metadata": {
    "collapsed": true,
    "jupyter": {
     "outputs_hidden": true
    }
   },
   "outputs": [],
   "source": [
    "# deleting bucket, uncomment lines below\n",
    "\n",
    "# bucket_to_delete = boto3.resource('s3').Bucket(bucket)\n",
    "# bucket_to_delete.objects.all().delete()"
   ]
  },
  {
   "cell_type": "markdown",
   "metadata": {},
   "source": [
    "### Deleting all your models and instances\n",
    "\n",
    "When you are _completely_ done with this project and do **not** ever want to revisit this notebook, you can choose to delete all of your SageMaker notebook instances and models by following [these instructions](https://docs.aws.amazon.com/sagemaker/latest/dg/ex1-cleanup.html). Before you delete this notebook instance, I recommend at least downloading a copy and saving it, locally."
   ]
  },
  {
   "cell_type": "markdown",
   "metadata": {},
   "source": [
    "---\n",
    "## Further Directions\n",
    "\n",
    "There are many ways to improve or add on to this project to expand your learning or make this more of a unique project for you. A few ideas are listed below:\n",
    "* Train a classifier to predict the *category* (1-3) of plagiarism and not just plagiarized (1) or not (0).\n",
    "* Utilize a different and larger dataset to see if this model can be extended to other types of plagiarism.\n",
    "* Use language or character-level analysis to find different (and more) similarity features.\n",
    "* Write a complete pipeline function that accepts a source text and submitted text file, and classifies the submitted text as plagiarized or not.\n",
    "* Use API Gateway and a lambda function to deploy your model to a web application.\n",
    "\n",
    "These are all just options for extending your work. If you've completed all the exercises in this notebook, you've completed a real-world application, and can proceed to submit your project. Great job!"
   ]
  }
 ],
 "metadata": {
  "kernelspec": {
   "display_name": "conda_pytorch_p36",
   "language": "python",
   "name": "conda_pytorch_p36"
  },
  "language_info": {
   "codemirror_mode": {
    "name": "ipython",
    "version": 3
   },
   "file_extension": ".py",
   "mimetype": "text/x-python",
   "name": "python",
   "nbconvert_exporter": "python",
   "pygments_lexer": "ipython3",
   "version": "3.6.5"
  }
 },
 "nbformat": 4,
 "nbformat_minor": 4
}
